{
 "cells": [
  {
   "cell_type": "markdown",
   "id": "576c54ba",
   "metadata": {},
   "source": [
    "# Task 4"
   ]
  },
  {
   "cell_type": "markdown",
   "id": "2b3d7dee",
   "metadata": {},
   "source": [
    "### Problem 1: Color Tracking\n",
    "\n",
    "- track a monochromatic object\n",
    "- create a video stream with a bounding box surrounding it by thresholding HSV or RGB values\n",
    "\n",
    "Questions:\n",
    "- Is HSV or RGB typically better?\n",
    "- How large is the threshold range that you need to track the object?\n",
    "\n"
   ]
  },
  {
   "cell_type": "markdown",
   "id": "9fdbdf91",
   "metadata": {},
   "source": [
    "# References and Improvements\n",
    "I approached this problem by… \n",
    "1. Turning on the video camera capture using code referenced from:  https://docs.opencv.org/4.x/dd/d43/tutorial_py_video_display.html \n",
    "2. I converted the frame from BGR to HSV because it worked better for thresholding capture with code referenced from: https://docs.opencv.org/4.x/df/d9d/tutorial_py_colorspaces.html \n",
    "3. Next, I operated on the mask to find the contours using canny edges with code referenced from: https://docs.opencv.org/4.x/da/d22/tutorial_py_canny.html \n",
    "4. Then, I bitwise-AND mask and the original image together to form a video of my object being tracked by a contour using code referenced from: https://docs.opencv.org/4.x/dd/d49/tutorial_py_contour_features.html \n",
    "5. Finally, I saved the recorded video using code referenced from: https://docs.opencv.org/4.x/dd/d43/tutorial_py_video_display.html \n"
   ]
  },
  {
   "cell_type": "code",
   "execution_count": 1,
   "id": "c8930adb",
   "metadata": {},
   "outputs": [],
   "source": [
    "import cv2 as cv\n",
    "import numpy as np"
   ]
  },
  {
   "cell_type": "code",
   "execution_count": 11,
   "id": "fb102865",
   "metadata": {},
   "outputs": [
    {
     "name": "stdout",
     "output_type": "stream",
     "text": [
      "[[[ 90  76 147]]]\n"
     ]
    }
   ],
   "source": [
    "# find HSV of my blue sticky note\n",
    "# I took a picture of the sticky note and put it into a color picjer\n",
    "\n",
    "blue = np.uint8([[[147,147,103]]])\n",
    "hsv_blue=cv.cvtColor(blue,cv.COLOR_BGR2HSV)\n",
    "print(hsv_blue)"
   ]
  },
  {
   "cell_type": "markdown",
   "id": "d31f36c8",
   "metadata": {},
   "source": [
    "**Below is code of tracking with bounding box**"
   ]
  },
  {
   "cell_type": "code",
   "execution_count": 3,
   "id": "d85c5cb3",
   "metadata": {
    "scrolled": true
   },
   "outputs": [
    {
     "name": "stderr",
     "output_type": "stream",
     "text": [
      "OpenCV: FFMPEG: tag 0x44495658/'XVID' is not supported with codec id 12 and format 'mp4 / MP4 (MPEG-4 Part 14)'\n",
      "OpenCV: FFMPEG: fallback to use tag 0x7634706d/'mp4v'\n"
     ]
    }
   ],
   "source": [
    "# easier to track color in HSV space\n",
    "\n",
    "cap = cv.VideoCapture(0)\n",
    "\n",
    "# record video\n",
    "fourcc=cv.VideoWriter_fourcc(*'XVID')\n",
    "w = int(cap.get(cv.CAP_PROP_FRAME_WIDTH))\n",
    "h = int(cap.get(cv.CAP_PROP_FRAME_HEIGHT))\n",
    "out = cv.VideoWriter('output.mp4',fourcc,20,(w,h))\n",
    "\n",
    "while(cap.isOpened()):\n",
    "    # Take each frame\n",
    "    ret, frame=cap.read()\n",
    "    \n",
    "    if ret==True:\n",
    "\n",
    "        # Convert BGR to HSV\n",
    "        hsv=cv.cvtColor(frame, cv.COLOR_BGR2HSV)\n",
    "\n",
    "        #define range of color in HSV\n",
    "        lower_color=np.array([90-10,50,50]) \n",
    "        upper_color=np.array([90+10,255,255]) \n",
    "\n",
    "        #Threshold the HSV image to get only my color\n",
    "        mask = cv.inRange(hsv,lower_color, upper_color)\n",
    "\n",
    "        #operate on mask! get contour (already in grayscale) \n",
    "\n",
    "        # find canny edges\n",
    "        edged=cv.Canny(mask,30,200)\n",
    "\n",
    "        # Find contours\n",
    "        contours,hierarhcy=cv.findContours(edged,cv.RETR_EXTERNAL,cv.CHAIN_APPROX_NONE)\n",
    "        cv.imshow('Canny Edges After Contouring', edged)\n",
    "        \n",
    "        if len(contours)==0:\n",
    "            continue\n",
    "        \n",
    "        # Draw Box\n",
    "        \n",
    "        for cnt in contours:\n",
    "            x,y,w,h = cv.boundingRect(cnt)\n",
    "            cv.rectangle(frame,(x,y),(x+w,y+h),(0,255,0),2)\n",
    "        \n",
    "        #Bitwise-AND mask and original image\n",
    "        res=cv.bitwise_and(frame,frame,mask=mask)\n",
    "        \n",
    "        # write out: frame, mask, res, edged\n",
    "        out.write(frame)\n",
    "        out.write(mask)\n",
    "        out.write(res)\n",
    "        out.write(edged)\n",
    "        \n",
    "        \n",
    "   \n",
    "\n",
    "        #finalRes=cv.bitwise_and()\n",
    "\n",
    "        cv.imshow('frame',frame)\n",
    "        cv.imshow('mask',mask)\n",
    "        cv.imshow('res',res)\n",
    "\n",
    "        if cv.waitKey(1) & 0xFF == ord('q'):\n",
    "            break\n",
    "    else:\n",
    "        break\n",
    "        \n",
    "# Release everything if the job is finished\n",
    "cap.release()\n",
    "out.release()\n",
    "        \n",
    "cv.destroyAllWindows()"
   ]
  },
  {
   "cell_type": "markdown",
   "id": "d3ede44f",
   "metadata": {},
   "source": [
    "### Problem 2: Lights off"
   ]
  },
  {
   "cell_type": "markdown",
   "id": "e7baaa70",
   "metadata": {},
   "source": [
    "When I turned my lights off, I could not track the object at all because my camera could not pick up the color of the object. "
   ]
  },
  {
   "cell_type": "markdown",
   "id": "e742f0c0",
   "metadata": {},
   "source": [
    "### Problem 3: different brightness"
   ]
  },
  {
   "cell_type": "markdown",
   "id": "80afa331",
   "metadata": {},
   "source": [
    "I tried 3 different brightness\n",
    "1. All the way down: I could pick up the color about 50-70%\n",
    "2. Medium: I could pick up the color about 90%\n",
    "3. All the way up: I could not pick up the color at all. I think it is because once the brightness was all the way up, it was no longer the color that I had chosen to track. The brightness was beyond the threshold"
   ]
  },
  {
   "cell_type": "markdown",
   "id": "4d3a8ba3",
   "metadata": {},
   "source": [
    "### Problem 4: find the dominant color in a central rectangle in my video feed\n",
    "- use k-means\n",
    "- use non-phone object and change the brightness of its surrounding\n",
    "- use phone and change the brightness\n",
    "- is the phone or the non-phone object more robust?\n",
    "\n",
    "Reference: https://code.likeagirl.io/finding-dominant-colour-on-an-image-b4e075f98097"
   ]
  },
  {
   "cell_type": "code",
   "execution_count": 7,
   "id": "bb3deeba",
   "metadata": {},
   "outputs": [
    {
     "name": "stdout",
     "output_type": "stream",
     "text": [
      "Collecting scikit-learn\n",
      "  Downloading scikit_learn-1.1.2-cp39-cp39-macosx_10_9_x86_64.whl (8.7 MB)\n",
      "\u001b[2K     \u001b[90m━━━━━━━━━━━━━━━━━━━━━━━━━━━━━━━━━━━━━━━━\u001b[0m \u001b[32m8.7/8.7 MB\u001b[0m \u001b[31m7.1 MB/s\u001b[0m eta \u001b[36m0:00:00\u001b[0m00:01\u001b[0m00:01\u001b[0m\n",
      "\u001b[?25hRequirement already satisfied: numpy>=1.17.3 in /Users/sarah/opt/anaconda3/envs/ece180/lib/python3.9/site-packages (from scikit-learn) (1.23.1)\n",
      "Collecting joblib>=1.0.0\n",
      "  Downloading joblib-1.2.0-py3-none-any.whl (297 kB)\n",
      "\u001b[2K     \u001b[90m━━━━━━━━━━━━━━━━━━━━━━━━━━━━━━━━━━━━━━━\u001b[0m \u001b[32m298.0/298.0 kB\u001b[0m \u001b[31m6.6 MB/s\u001b[0m eta \u001b[36m0:00:00\u001b[0m00:01\u001b[0m\n",
      "\u001b[?25hCollecting threadpoolctl>=2.0.0\n",
      "  Downloading threadpoolctl-3.1.0-py3-none-any.whl (14 kB)\n",
      "Collecting scipy>=1.3.2\n",
      "  Downloading scipy-1.9.1-cp39-cp39-macosx_12_0_universal2.macosx_10_9_x86_64.whl (58.4 MB)\n",
      "\u001b[2K     \u001b[90m━━━━━━━━━━━━━━━━━━━━━━━━━━━━━━━━━━━━━━━━\u001b[0m \u001b[32m58.4/58.4 MB\u001b[0m \u001b[31m9.7 MB/s\u001b[0m eta \u001b[36m0:00:00\u001b[0m:00:01\u001b[0m00:01\u001b[0m\n",
      "\u001b[?25hInstalling collected packages: threadpoolctl, scipy, joblib, scikit-learn\n",
      "Successfully installed joblib-1.2.0 scikit-learn-1.1.2 scipy-1.9.1 threadpoolctl-3.1.0\n"
     ]
    }
   ],
   "source": [
    "# !pip install scikit-learn"
   ]
  },
  {
   "cell_type": "code",
   "execution_count": 3,
   "id": "774a3f44",
   "metadata": {},
   "outputs": [
    {
     "name": "stderr",
     "output_type": "stream",
     "text": [
      "/var/folders/jw/c2wxwfxj1gd3nk4l01q2l9ww0000gn/T/ipykernel_31430/2357289686.py:48: ConvergenceWarning: Number of distinct clusters (1) found smaller than n_clusters (3). Possibly due to duplicate points in X.\n",
      "  clt.fit(frame)\n"
     ]
    },
    {
     "data": {
      "image/png": "[encoded data removed]",
      "text/plain": [
       "<Figure size 640x480 with 1 Axes>"
      ]
     },
     "metadata": {},
     "output_type": "display_data"
    },
    {
     "name": "stdout",
     "output_type": "stream",
     "text": [
      "test\n"
     ]
    },
    {
     "data": {
      "image/png": "[encoded data removed]",
      "text/plain": [
       "<Figure size 640x480 with 1 Axes>"
      ]
     },
     "metadata": {},
     "output_type": "display_data"
    },
    {
     "name": "stdout",
     "output_type": "stream",
     "text": [
      "test\n"
     ]
    },
    {
     "data": {
      "image/png": "[encoded data removed]",
      "text/plain": [
       "<Figure size 640x480 with 1 Axes>"
      ]
     },
     "metadata": {},
     "output_type": "display_data"
    },
    {
     "name": "stdout",
     "output_type": "stream",
     "text": [
      "test\n"
     ]
    },
    {
     "data": {
      "image/png": "[encoded data removed]",
      "text/plain": [
       "<Figure size 640x480 with 1 Axes>"
      ]
     },
     "metadata": {},
     "output_type": "display_data"
    },
    {
     "name": "stdout",
     "output_type": "stream",
     "text": [
      "test\n"
     ]
    },
    {
     "data": {
      "image/png": "[encoded data removed]",
      "text/plain": [
       "<Figure size 640x480 with 1 Axes>"
      ]
     },
     "metadata": {},
     "output_type": "display_data"
    },
    {
     "name": "stdout",
     "output_type": "stream",
     "text": [
      "test\n"
     ]
    },
    {
     "data": {
      "image/png": "[encoded data removed]",
      "text/plain": [
       "<Figure size 640x480 with 1 Axes>"
      ]
     },
     "metadata": {},
     "output_type": "display_data"
    },
    {
     "name": "stdout",
     "output_type": "stream",
     "text": [
      "test\n"
     ]
    },
    {
     "data": {
      "image/png": "[encoded data removed]",
      "text/plain": [
       "<Figure size 640x480 with 1 Axes>"
      ]
     },
     "metadata": {},
     "output_type": "display_data"
    },
    {
     "name": "stdout",
     "output_type": "stream",
     "text": [
      "test\n"
     ]
    },
    {
     "data": {
      "image/png": "[encoded data removed]",
      "text/plain": [
       "<Figure size 640x480 with 1 Axes>"
      ]
     },
     "metadata": {},
     "output_type": "display_data"
    },
    {
     "name": "stdout",
     "output_type": "stream",
     "text": [
      "test\n"
     ]
    },
    {
     "data": {
      "image/png": "[encoded data removed]",
      "text/plain": [
       "<Figure size 640x480 with 1 Axes>"
      ]
     },
     "metadata": {},
     "output_type": "display_data"
    },
    {
     "name": "stdout",
     "output_type": "stream",
     "text": [
      "test\n"
     ]
    },
    {
     "data": {
      "image/png": "[encoded data removed]",
      "text/plain": [
       "<Figure size 640x480 with 1 Axes>"
      ]
     },
     "metadata": {},
     "output_type": "display_data"
    },
    {
     "name": "stdout",
     "output_type": "stream",
     "text": [
      "test\n"
     ]
    },
    {
     "data": {
      "image/png": "[encoded data removed]",
      "text/plain": [
       "<Figure size 640x480 with 1 Axes>"
      ]
     },
     "metadata": {},
     "output_type": "display_data"
    },
    {
     "name": "stdout",
     "output_type": "stream",
     "text": [
      "test\n"
     ]
    },
    {
     "data": {
      "image/png": "[encoded data removed]",
      "text/plain": [
       "<Figure size 640x480 with 1 Axes>"
      ]
     },
     "metadata": {},
     "output_type": "display_data"
    },
    {
     "name": "stdout",
     "output_type": "stream",
     "text": [
      "test\n"
     ]
    },
    {
     "data": {
      "image/png": "[encoded data removed]",
      "text/plain": [
       "<Figure size 640x480 with 1 Axes>"
      ]
     },
     "metadata": {},
     "output_type": "display_data"
    },
    {
     "name": "stdout",
     "output_type": "stream",
     "text": [
      "test\n"
     ]
    },
    {
     "data": {
      "image/png": "[encoded data removed]",
      "text/plain": [
       "<Figure size 640x480 with 1 Axes>"
      ]
     },
     "metadata": {},
     "output_type": "display_data"
    },
    {
     "name": "stdout",
     "output_type": "stream",
     "text": [
      "test\n"
     ]
    },
    {
     "data": {
      "image/png": "[encoded data removed]",
      "text/plain": [
       "<Figure size 640x480 with 1 Axes>"
      ]
     },
     "metadata": {},
     "output_type": "display_data"
    },
    {
     "name": "stdout",
     "output_type": "stream",
     "text": [
      "test\n"
     ]
    },
    {
     "data": {
      "image/png": "[encoded data removed]",
      "text/plain": [
       "<Figure size 640x480 with 1 Axes>"
      ]
     },
     "metadata": {},
     "output_type": "display_data"
    },
    {
     "name": "stdout",
     "output_type": "stream",
     "text": [
      "test\n"
     ]
    },
    {
     "data": {
      "image/png": "[encoded data removed]",
      "text/plain": [
       "<Figure size 640x480 with 1 Axes>"
      ]
     },
     "metadata": {},
     "output_type": "display_data"
    },
    {
     "name": "stdout",
     "output_type": "stream",
     "text": [
      "test\n"
     ]
    },
    {
     "data": {
      "image/png": "[encoded data removed]",
      "text/plain": [
       "<Figure size 640x480 with 1 Axes>"
      ]
     },
     "metadata": {},
     "output_type": "display_data"
    },
    {
     "name": "stdout",
     "output_type": "stream",
     "text": [
      "test\n"
     ]
    },
    {
     "data": {
      "image/png": "[encoded data removed]",
      "text/plain": [
       "<Figure size 640x480 with 1 Axes>"
      ]
     },
     "metadata": {},
     "output_type": "display_data"
    },
    {
     "name": "stdout",
     "output_type": "stream",
     "text": [
      "test\n"
     ]
    },
    {
     "data": {
      "image/png": "[encoded data removed]",
      "text/plain": [
       "<Figure size 640x480 with 1 Axes>"
      ]
     },
     "metadata": {},
     "output_type": "display_data"
    },
    {
     "name": "stdout",
     "output_type": "stream",
     "text": [
      "test\n"
     ]
    },
    {
     "data": {
      "image/png": "[encoded data removed]",
      "text/plain": [
       "<Figure size 640x480 with 1 Axes>"
      ]
     },
     "metadata": {},
     "output_type": "display_data"
    },
    {
     "name": "stdout",
     "output_type": "stream",
     "text": [
      "test\n"
     ]
    },
    {
     "data": {
      "image/png": "[encoded data removed]",
      "text/plain": [
       "<Figure size 640x480 with 1 Axes>"
      ]
     },
     "metadata": {},
     "output_type": "display_data"
    },
    {
     "name": "stdout",
     "output_type": "stream",
     "text": [
      "test\n"
     ]
    },
    {
     "data": {
      "image/png": "[encoded data removed]",
      "text/plain": [
       "<Figure size 640x480 with 1 Axes>"
      ]
     },
     "metadata": {},
     "output_type": "display_data"
    },
    {
     "name": "stdout",
     "output_type": "stream",
     "text": [
      "test\n"
     ]
    },
    {
     "data": {
      "image/png": "[encoded data removed]",
      "text/plain": [
       "<Figure size 640x480 with 1 Axes>"
      ]
     },
     "metadata": {},
     "output_type": "display_data"
    },
    {
     "name": "stdout",
     "output_type": "stream",
     "text": [
      "test\n"
     ]
    },
    {
     "ename": "NameError",
     "evalue": "name 'out' is not defined",
     "output_type": "error",
     "traceback": [
      "\u001b[0;31m---------------------------------------------------------------------------\u001b[0m",
      "\u001b[0;31mNameError\u001b[0m                                 Traceback (most recent call last)",
      "Cell \u001b[0;32mIn [3], line 67\u001b[0m\n\u001b[1;32m     65\u001b[0m \u001b[38;5;66;03m# Release everything if the job is finished\u001b[39;00m\n\u001b[1;32m     66\u001b[0m cap\u001b[38;5;241m.\u001b[39mrelease()\n\u001b[0;32m---> 67\u001b[0m out\u001b[38;5;241m.\u001b[39mrelease()\n\u001b[1;32m     69\u001b[0m cv\u001b[38;5;241m.\u001b[39mdestroyAllWindows()\n",
      "\u001b[0;31mNameError\u001b[0m: name 'out' is not defined"
     ]
    }
   ],
   "source": [
    "import cv2 as cv\n",
    "import numpy as np\n",
    "import matplotlib.pyplot as plt\n",
    "from sklearn.cluster import KMeans\n",
    "\n",
    "\n",
    "def find_histogram(clt):\n",
    "    \"\"\"\n",
    "    create a histogram with k clusters\n",
    "    :param: clt\n",
    "    :return:hist\n",
    "    \"\"\"\n",
    "    numLabels = np.arange(0, len(np.unique(clt.labels_)) + 1)\n",
    "    (hist, _) = np.histogram(clt.labels_, bins=numLabels)\n",
    "\n",
    "    hist = hist.astype(\"float\")\n",
    "    hist /= hist.sum()\n",
    "\n",
    "    return hist\n",
    "\n",
    "def plot_colors2(hist, centroids):\n",
    "    bar = np.zeros((50, 300, 3), dtype=\"uint8\")\n",
    "    startX = 0\n",
    "\n",
    "    for (percent, color) in zip(hist, centroids):\n",
    "        # plot the relative percentage of each cluster\n",
    "        endX = startX + (percent * 300)\n",
    "        cv.rectangle(bar, (int(startX), 0), (int(endX), 50),\n",
    "                      color.astype(\"uint8\").tolist(), -1)\n",
    "        startX = endX\n",
    "\n",
    "    # return the bar chart\n",
    "    return bar\n",
    "\n",
    "\n",
    "cap = cv.VideoCapture(0)\n",
    "\n",
    "while(cap.isOpened()):\n",
    "    ret, frame=cap.read()\n",
    "    \n",
    "    if ret==True:\n",
    "        cv.imshow('frame',frame)\n",
    "        \n",
    "        frame = cv.cvtColor(frame,cv.COLOR_BGR2RGB)\n",
    "        \n",
    "        frame = frame.reshape((frame.shape[0] * frame.shape[1],3)) #represent as row*column,channel number\n",
    "        clt = KMeans(n_clusters=3) #cluster number\n",
    "        clt.fit(frame)\n",
    "\n",
    "        hist = find_histogram(clt)\n",
    "        bar = plot_colors2(hist, clt.cluster_centers_)\n",
    "\n",
    "        plt.axis(\"off\")\n",
    "        plt.imshow(bar)\n",
    "        plt.show()\n",
    "    \n",
    "        if cv.waitKey(1) & 0xFF == ord('q'):\n",
    "            break\n",
    "    else:\n",
    "        break\n",
    "        \n",
    "# Release everything if the job is finished\n",
    "cap.release()\n",
    "out.release()\n",
    "        \n",
    "cv.destroyAllWindows()"
   ]
  },
  {
   "cell_type": "code",
   "execution_count": null,
   "id": "c64427af",
   "metadata": {},
   "outputs": [],
   "source": []
  }
 ],
 "metadata": {
  "kernelspec": {
   "display_name": "Python 3 (ipykernel)",
   "language": "python",
   "name": "python3"
  },
  "language_info": {
   "codemirror_mode": {
    "name": "ipython",
    "version": 3
   },
   "file_extension": ".py",
   "mimetype": "text/x-python",
   "name": "python",
   "nbconvert_exporter": "python",
   "pygments_lexer": "ipython3",
   "version": "3.9.13"
  }
 },
 "nbformat": 4,
 "nbformat_minor": 5
}
