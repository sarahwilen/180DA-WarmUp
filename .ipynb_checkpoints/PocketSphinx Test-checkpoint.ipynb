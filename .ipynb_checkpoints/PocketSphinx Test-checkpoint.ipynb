{
 "cells": [
  {
   "cell_type": "code",
   "execution_count": 1,
   "id": "2e9260c8",
   "metadata": {},
   "outputs": [
    {
     "name": "stdout",
     "output_type": "stream",
     "text": [
      "Collecting pocketsphinx\n",
      "  Downloading pocketsphinx-5.0.0.tar.gz (33.9 MB)\n",
      "\u001b[K     |████████████████████████████████| 33.9 MB 2.0 MB/s eta 0:00:01\n",
      "\u001b[?25h  Installing build dependencies ... \u001b[?25ldone\n",
      "\u001b[?25h  Getting requirements to build wheel ... \u001b[?25ldone\n",
      "\u001b[?25h    Preparing wheel metadata ... \u001b[?25ldone\n",
      "\u001b[?25hCollecting sounddevice\n",
      "  Downloading sounddevice-0.4.5-py3-none-macosx_10_6_x86_64.macosx_10_6_universal2.whl (108 kB)\n",
      "\u001b[K     |████████████████████████████████| 108 kB 22.4 MB/s eta 0:00:01\n",
      "\u001b[?25hRequirement already satisfied: CFFI>=1.0 in /Users/sarah/opt/anaconda3/lib/python3.9/site-packages (from sounddevice->pocketsphinx) (1.14.6)\n",
      "Requirement already satisfied: pycparser in /Users/sarah/opt/anaconda3/lib/python3.9/site-packages (from CFFI>=1.0->sounddevice->pocketsphinx) (2.20)\n",
      "Building wheels for collected packages: pocketsphinx\n",
      "  Building wheel for pocketsphinx (PEP 517) ... \u001b[?25ldone\n",
      "\u001b[?25h  Created wheel for pocketsphinx: filename=pocketsphinx-5.0.0-cp39-cp39-macosx_10_16_x86_64.whl size=29089830 sha256=532714605289d5371789a3d8a5f92de68ccd1ef03251755e6d131aae71ed5c26\n",
      "  Stored in directory: /Users/sarah/Library/Caches/pip/wheels/42/42/2f/2dc48505d6d4ed0bd37dcf051b3978c7e31c2b1606fb7e074e\n",
      "Successfully built pocketsphinx\n",
      "Installing collected packages: sounddevice, pocketsphinx\n",
      "Successfully installed pocketsphinx-5.0.0 sounddevice-0.4.5\n"
     ]
    }
   ],
   "source": [
    "#!pip install pocketsphinx"
   ]
  },
  {
   "cell_type": "markdown",
   "id": "64fdd691",
   "metadata": {},
   "source": [
    "Reference: https://pypi.org/project/pocketsphinx/"
   ]
  },
  {
   "cell_type": "code",
   "execution_count": 2,
   "id": "9e013ce7",
   "metadata": {},
   "outputs": [
    {
     "name": "stdout",
     "output_type": "stream",
     "text": [
      "\n",
      "hello\n",
      "and testing\n",
      "my name is sarah\n"
     ]
    }
   ],
   "source": [
    "# continuous recognition or keyword search from a microphone (speech-to-text)\n",
    "from pocketsphinx import LiveSpeech\n",
    "for phrase in LiveSpeech (): print (phrase)"
   ]
  },
  {
   "cell_type": "code",
   "execution_count": null,
   "id": "89b1a7ce",
   "metadata": {},
   "outputs": [],
   "source": []
  }
 ],
 "metadata": {
  "kernelspec": {
   "display_name": "Python 3 (ipykernel)",
   "language": "python",
   "name": "python3"
  },
  "language_info": {
   "codemirror_mode": {
    "name": "ipython",
    "version": 3
   },
   "file_extension": ".py",
   "mimetype": "text/x-python",
   "name": "python",
   "nbconvert_exporter": "python",
   "pygments_lexer": "ipython3",
   "version": "3.9.7"
  }
 },
 "nbformat": 4,
 "nbformat_minor": 5
}
